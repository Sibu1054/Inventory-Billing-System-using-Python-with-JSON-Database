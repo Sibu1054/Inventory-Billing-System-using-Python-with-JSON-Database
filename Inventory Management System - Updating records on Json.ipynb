{
 "cells": [
  {
   "cell_type": "markdown",
   "id": "c1441d5b-66ab-4eac-8425-bd2ff87b3d3f",
   "metadata": {},
   "source": [
    "in record the product Id is in integer\n",
    "but in json.loads(js) ,the product Id is in String format\n",
    "\n",
    "js = json.dumps(record)        ,here it convert the dictionary to string\n",
    "json.loads(js)                 ,here it convert the string to dictionary"
   ]
  },
  {
   "cell_type": "code",
   "execution_count": 4,
   "id": "72bc8cb8-6015-4eaf-928d-176ef9063a02",
   "metadata": {},
   "outputs": [
    {
     "name": "stdout",
     "output_type": "stream",
     "text": [
      "-------------------- MENU -------------------- \n",
      "\n",
      "1001 : 5 star | 10 | 4000\n",
      "1002 : Bourboun | 30 | 4780\n",
      "1003 : Chocolate Cake | 340 | 100\n",
      "1004 : Strawberry Cake | 460 | 76\n",
      "1005 : Center Fresh | 2 | 4000\n",
      "1006 : Happydent | 5 | 0\n",
      "---------------------------------------------- \n",
      "\n"
     ]
    },
    {
     "name": "stdin",
     "output_type": "stream",
     "text": [
      "Enter Name:  Ramson\n",
      "Enter Email ID:  rrr23@gmail.com\n",
      "Enter Phone Number:  450687129\n",
      "Enter Product ID:  1001\n",
      "Enter Quantity:  5000\n"
     ]
    },
    {
     "name": "stdout",
     "output_type": "stream",
     "text": [
      "Sorry! we're not have enough Quantity\n",
      "We've only 4000 quantity.\n",
      "----------------------------------------------\n"
     ]
    },
    {
     "name": "stdin",
     "output_type": "stream",
     "text": [
      "Press Y to purchase y\n"
     ]
    },
    {
     "name": "stdout",
     "output_type": "stream",
     "text": [
      "You got a 10% discount\n",
      "----------------------------------------------\n",
      "                     BILL                      \n",
      "\n",
      "Name               : 5 star\n",
      "Price              : 10 Rs\n",
      "Quantity           : 4000\n",
      "----------------------------------------------\n",
      "Billing Amount     :  40000 Rs\n",
      "----------------------------------------------\n",
      "----------------------------------------------\n",
      "Discount Applied   :  4000.0 Rs\n",
      "----------------------------------------------\n",
      "Final Amount       :  36000.0 Rs\n",
      "Inventory Updated Successfully\n",
      "----------------------------------------------\n"
     ]
    }
   ],
   "source": [
    "import json\n",
    "import random\n",
    "import time\n",
    "\n",
    "# Importing Inventory data from records.json file\n",
    "fd = open('Records.json','r')\n",
    "js = fd.read()\n",
    "fd.close()\n",
    "\n",
    "# Convert String data to dictionary\n",
    "record = json.loads(js)\n",
    "\n",
    "# Displaying Menu\n",
    "print(\"-\"*20,\"MENU\",\"-\"*20,\"\\n\")\n",
    "for key in record.keys():\n",
    "    print(key,\":\",record[key][\"Name\"],\"|\",record[key][\"Price\"],\"|\",record[key][\"Quantity\"])\n",
    "\n",
    "print(\"-\"*46,\"\\n\")\n",
    "\n",
    "# Taking User Inputs\n",
    "ui_name  = str(input(\"Enter Name: \")) \n",
    "ui_email = str(input(\"Enter Email ID: \"))\n",
    "ui_phone = str(input(\"Enter Phone Number: \"))              \n",
    "ui_pr    = str(input(\"Enter Product ID: \"))\n",
    "ui_qn    = int(input(\"Enter Quantity: \"))\n",
    "trans_id = random.randint(10000,99999)\n",
    "\n",
    "# If we've enough Quantities\n",
    "if(record[ui_pr][\"Quantity\"] >= ui_qn):\n",
    "    total_price = (ui_qn)*(int(record[ui_pr][\"Price\"]))\n",
    "    # Discounts\n",
    "    if 7000 <= total_price :\n",
    "        print(\"You got a 10% discount\")\n",
    "        discount = total_price * 0.1\n",
    "    elif(5000 <= total_price < 7000):\n",
    "        print(\"You got a flat 500 Rs discount\")\n",
    "        discount = 500\n",
    "    else:\n",
    "        discount = 0\n",
    "        \n",
    "    # Generating Bill\n",
    "    print(\"-\"*46)\n",
    "    print(\" \"*20,\"BILL\",\" \"*20,\"\\n\")\n",
    "    \n",
    "    print(\"Name               :\",record[ui_pr][\"Name\"])\n",
    "    print(\"Price              :\",record[ui_pr][\"Price\"],\"Rs\")\n",
    "    print(\"Quantity           :\",ui_qn)\n",
    "    \n",
    "    print(\"-\"*46)\n",
    "    print(\"Billing Amount     : \",total_price,\"Rs\")\n",
    "    print(\"-\"*46)\n",
    "    print(\"Discount Applied   : \",discount,\"Rs\")\n",
    "    print(\"-\"*46)\n",
    "    print(\"Final Amount       : \",total_price-discount,\"Rs\")\n",
    "\n",
    "\n",
    "        \n",
    "    # Generating Transaction details\n",
    "    sales = str(trans_id) +\",\"+ui_name+\",\"+ui_email +\",\"+ui_phone +\",\"+ui_pr +\",\"+str(record[ui_pr][\"Name\"])+\",\"+ str(ui_qn) +\",\"+str(total_price)+\",\"+str(total_price-discount)+\",\"+time.ctime()+\"\\n\"\n",
    "\n",
    "    # Updating the inventory in dictionary\n",
    "    record[ui_pr][\"Quantity\"] = record[ui_pr][\"Quantity\"] - ui_qn\n",
    "\n",
    "else:\n",
    "    # If we've not enough Quantities\n",
    "    print(\"Sorry! we're not have enough Quantity\")\n",
    "    print(\"We've only\",record[ui_pr][\"Quantity\"],\"quantity.\")\n",
    "    print(\"-\"*46)\n",
    "\n",
    "    # If already product is out of Stock\n",
    "    if record[ui_pr][\"Quantity\"] == 0:\n",
    "        print(\"Sorry! we're out of stock\")\n",
    "        \n",
    "    \n",
    "    else:\n",
    "        # If user wants to purchase the whole quantity for that product\n",
    "        ch = str(input(\"Press Y to purchase\"))\n",
    "        if(ch == \"Y\" or ch ==\"y\"):\n",
    "            total_price = record[ui_pr][\"Quantity\"]*(int(record[ui_pr][\"Price\"]))\n",
    "            # Discounts\n",
    "            if (7000 <= total_price ):\n",
    "                print(\"You got a 10% discount\")\n",
    "                discount = total_price * 0.1\n",
    "            elif(5000 <= total_price < 7000):\n",
    "                print(\"You got a flat 500 Rs discount\")\n",
    "                discount = 500\n",
    "            else:\n",
    "                discount = 0\n",
    "                \n",
    "            # Generating Bill\n",
    "            print(\"-\"*46)\n",
    "            print(\" \"*20,\"BILL\",\" \"*20,\"\\n\")\n",
    "            print(\"Name               :\",record[ui_pr][\"Name\"])\n",
    "            print(\"Price              :\",record[ui_pr][\"Price\"],\"Rs\")\n",
    "            print(\"Quantity           :\",record[ui_pr][\"Quantity\"])\n",
    "            \n",
    "            print(\"-\"*46)\n",
    "            print(\"Billing Amount     : \",total_price,\"Rs\")\n",
    "            print(\"-\"*46)\n",
    "            print(\"-\"*46)\n",
    "            print(\"Discount Applied   : \",discount,\"Rs\")\n",
    "            print(\"-\"*46)\n",
    "            print(\"Final Amount       : \",total_price-discount,\"Rs\")\n",
    "            \n",
    "\n",
    "                \n",
    "            # Generating Transaction details\n",
    "            sales = str(trans_id) +\",\"+ui_name+\",\"+ui_email +\",\"+ui_phone +\",\"+ui_pr +\",\"+str(record[ui_pr][\"Name\"])+\",\"+ str(record[ui_pr][\"Quantity\"]) +\",\"+str(total_price)+\",\"+str(total_price-discount)+\",\"+time.ctime()+\"\\n\"\n",
    "            \n",
    "            # Updating the inventory in dictionary            \n",
    "            record[ui_pr][\"Quantity\"] = 0\n",
    "\n",
    "            \n",
    "\n",
    "        else:\n",
    "        # If user doesn't wants to purchase the whole quantity for that product \n",
    "            print(\"Thank You\")\n",
    "\n",
    "\n",
    "# Updating Inventory and Saving in to my Records.json\n",
    "js = json.dumps(record)\n",
    "fd = open('Records.json','w')\n",
    "fd.write(js)\n",
    "fd.close()\n",
    "\n",
    "# Adding Transection on Sales File\n",
    "fd = open(\"Sales_json.csv\",'a')\n",
    "fd.write(sales)\n",
    "fd.close()\n",
    "\n",
    "print(\"Inventory Updated Successfully\")\n",
    "print(\"-\"*46)"
   ]
  },
  {
   "cell_type": "code",
   "execution_count": 7,
   "id": "e0c1bb6a-e996-4b2b-b781-c0a895f18841",
   "metadata": {},
   "outputs": [
    {
     "data": {
      "text/plain": [
       "{'1001': {'Name': '5 star', 'Price': 10, 'Quantity': 3400},\n",
       " '1002': {'Name': 'Bourboun', 'Price': 30, 'Quantity': 200},\n",
       " '1003': {'Name': 'Chocolate Cake', 'Price': 340, 'Quantity': 100},\n",
       " '1004': {'Name': 'Strawberry Cake', 'Price': 460, 'Quantity': 90},\n",
       " '1005': {'Name': 'Center Fresh', 'Price': 2, 'Quantity': 1000},\n",
       " '1006': {'Name': 'Happydent', 'Price': 5, 'Quantity': 3000}}"
      ]
     },
     "execution_count": 7,
     "metadata": {},
     "output_type": "execute_result"
    }
   ],
   "source": [
    "record"
   ]
  },
  {
   "cell_type": "code",
   "execution_count": 8,
   "id": "8d2de566-55c6-4192-b220-7a6edb939840",
   "metadata": {},
   "outputs": [
    {
     "data": {
      "text/plain": [
       "'50027,Yansen Mark,marcoyan13@gmail.sa,879325416,1001,5 star,600,6000,40000,Mon Jun 16 12:47:46 2025\\n'"
      ]
     },
     "execution_count": 8,
     "metadata": {},
     "output_type": "execute_result"
    }
   ],
   "source": [
    "sales"
   ]
  }
 ],
 "metadata": {
  "kernelspec": {
   "display_name": "Python 3 (ipykernel)",
   "language": "python",
   "name": "python3"
  },
  "language_info": {
   "codemirror_mode": {
    "name": "ipython",
    "version": 3
   },
   "file_extension": ".py",
   "mimetype": "text/x-python",
   "name": "python",
   "nbconvert_exporter": "python",
   "pygments_lexer": "ipython3",
   "version": "3.12.4"
  }
 },
 "nbformat": 4,
 "nbformat_minor": 5
}
